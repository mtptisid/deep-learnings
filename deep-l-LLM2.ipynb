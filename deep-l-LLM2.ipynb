{
 "cells": [
  {
   "cell_type": "code",
   "execution_count": 17,
   "id": "002b88c4-0165-4f41-9ebd-fcc73ded21ae",
   "metadata": {},
   "outputs": [],
   "source": [
    "import nltk\n",
    "import spacy"
   ]
  },
  {
   "cell_type": "code",
   "execution_count": 45,
   "id": "e7f5d63b-e2c2-4c2b-94ef-0a864611ea16",
   "metadata": {},
   "outputs": [],
   "source": [
    "from nltk.stem.porter import PorterStemmer\n",
    "from nltk.stem.snowball import SnowballStemmer\n",
    "from spacy.matcher import Matcher"
   ]
  },
  {
   "cell_type": "code",
   "execution_count": 3,
   "id": "940a5f2f-0ed8-4a00-8b63-299ad7e2bdaf",
   "metadata": {},
   "outputs": [],
   "source": [
    "p_st = PorterStemmer()"
   ]
  },
  {
   "cell_type": "code",
   "execution_count": 11,
   "id": "0cc2fd76-b6d5-42f0-9787-274b3f837582",
   "metadata": {},
   "outputs": [],
   "source": [
    "words = ['run','runner','ran','runs','easy','fairly']"
   ]
  },
  {
   "cell_type": "code",
   "execution_count": 7,
   "id": "f83ed1e5-f615-48b4-a062-a252721a4041",
   "metadata": {},
   "outputs": [
    {
     "name": "stdout",
     "output_type": "stream",
     "text": [
      "run ------> run\n",
      "runner ------> runner\n",
      "ran ------> ran\n",
      "runs ------> run\n",
      "easy ------> easi\n",
      "fair ------> fair\n"
     ]
    }
   ],
   "source": [
    "for word in words:\n",
    "    print(word + \" ------> \" + p_st.stem(word))"
   ]
  },
  {
   "cell_type": "code",
   "execution_count": 9,
   "id": "aed270c5-1dde-4a80-b6fe-7b408e7c9ec4",
   "metadata": {},
   "outputs": [],
   "source": [
    "s_st = SnowballStemmer(language='english')"
   ]
  },
  {
   "cell_type": "code",
   "execution_count": 12,
   "id": "c6d44965-8ba5-4c77-a9d4-07836e219181",
   "metadata": {},
   "outputs": [
    {
     "name": "stdout",
     "output_type": "stream",
     "text": [
      "run ------> run\n",
      "runner ------> runner\n",
      "ran ------> ran\n",
      "runs ------> run\n",
      "easy ------> easi\n",
      "fairly ------> fair\n"
     ]
    }
   ],
   "source": [
    "for word in words:\n",
    "    print(word + \" ------> \" + s_st.stem(word))"
   ]
  },
  {
   "cell_type": "code",
   "execution_count": 13,
   "id": "1bcb3e02-cb72-48d2-ba88-2c2f14885e6b",
   "metadata": {},
   "outputs": [],
   "source": [
    "word2 = ['generous','genearation','generously','generate']"
   ]
  },
  {
   "cell_type": "code",
   "execution_count": 14,
   "id": "d8a33e22-3371-45fa-a583-f8eb1f1c54ab",
   "metadata": {},
   "outputs": [
    {
     "name": "stdout",
     "output_type": "stream",
     "text": [
      "generous ------> gener\n",
      "genearation ------> genear\n",
      "generously ------> gener\n",
      "generate ------> gener\n"
     ]
    }
   ],
   "source": [
    "for word in word2:\n",
    "    print(word + \" ------> \" + p_st.stem(word))"
   ]
  },
  {
   "cell_type": "code",
   "execution_count": 15,
   "id": "05f124fa-9880-4412-8fe1-05334830963b",
   "metadata": {},
   "outputs": [
    {
     "name": "stdout",
     "output_type": "stream",
     "text": [
      "generous ------> generous\n",
      "genearation ------> genear\n",
      "generously ------> generous\n",
      "generate ------> generat\n"
     ]
    }
   ],
   "source": [
    "for word in word2:\n",
    "    print(word + \" ------> \" + s_st.stem(word))"
   ]
  },
  {
   "cell_type": "code",
   "execution_count": 19,
   "id": "7e986d56-d58e-4779-942c-304bdef89ec1",
   "metadata": {},
   "outputs": [],
   "source": [
    "nlp = spacy.load('en_core_web_sm')"
   ]
  },
  {
   "cell_type": "code",
   "execution_count": 20,
   "id": "b46e5b72-1848-4773-b9e7-1a4d964ab2ab",
   "metadata": {},
   "outputs": [],
   "source": [
    "doc = nlp(u'I am runner running a race because I Love to run since I ran today')"
   ]
  },
  {
   "cell_type": "code",
   "execution_count": 28,
   "id": "f9923eca-e07c-4374-b45c-f47f22eb2d8e",
   "metadata": {},
   "outputs": [
    {
     "name": "stdout",
     "output_type": "stream",
     "text": [
      "I          PRON    4690420944186131903    I              \n",
      "am         AUX     10382539506755952630   be             \n",
      "runner     NOUN    12640964157389618806   runner         \n",
      "running    VERB    12767647472892411841   run            \n",
      "a          DET     11901859001352538922   a              \n",
      "race       NOUN    8048469955494714898    race           \n",
      "because    SCONJ   16950148841647037698   because        \n",
      "I          PRON    4690420944186131903    I              \n",
      "Love       VERB    3702023516439754181    love           \n",
      "to         PART    3791531372978436496    to             \n",
      "run        VERB    12767647472892411841   run            \n",
      "since      SCONJ   10066841407251338481   since          \n",
      "I          PRON    4690420944186131903    I              \n",
      "ran        VERB    12767647472892411841   run            \n",
      "today      NOUN    11042482332948150395   today          \n"
     ]
    }
   ],
   "source": [
    "for token in doc:\n",
    "    print(\"{:<10} {:<7} {:<22} {:<15}\".format(token.text,token.pos_,token.lemma,token.lemma_))"
   ]
  },
  {
   "cell_type": "code",
   "execution_count": 29,
   "id": "1cdd180c-19ed-4efb-9653-a8ee64840835",
   "metadata": {},
   "outputs": [
    {
     "name": "stdout",
     "output_type": "stream",
     "text": [
      "I          PRON     4690420944186131903    I        \n",
      "am         AUX      10382539506755952630   be       \n",
      "runner     NOUN     12640964157389618806   runner   \n",
      "running    VERB     12767647472892411841   run      \n",
      "a          DET      11901859001352538922   a        \n",
      "race       NOUN     8048469955494714898    race     \n",
      "because    SCONJ    16950148841647037698   because  \n",
      "I          PRON     4690420944186131903    I        \n",
      "Love       VERB     3702023516439754181    love     \n",
      "to         PART     3791531372978436496    to       \n",
      "run        VERB     12767647472892411841   run      \n",
      "since      SCONJ    10066841407251338481   since    \n",
      "I          PRON     4690420944186131903    I        \n",
      "ran        VERB     12767647472892411841   run      \n",
      "today      NOUN     11042482332948150395   today    \n"
     ]
    }
   ],
   "source": [
    " for token in doc:\n",
    "     print(f'{token.text:{10}} {token.pos_:{8}} {token.lemma:<{22}} {token.lemma_:{9}}')"
   ]
  },
  {
   "cell_type": "code",
   "execution_count": 42,
   "id": "7da04c0d-a679-4ef1-8f75-ba11003026a0",
   "metadata": {},
   "outputs": [
    {
     "name": "stdout",
     "output_type": "stream",
     "text": [
      "I                     is  1  th word\n",
      "am                    is  2  th word\n",
      "runner                is  3  th word\n",
      "running               is  4  th word\n",
      "a                     is  5  th word\n",
      "race                  is  6  th word\n",
      "because               is  7  th word\n",
      "I                     is  8  th word\n",
      "Love                  is  9  th word\n",
      "to                    is  10  th word\n",
      "run                   is  11  th word\n",
      "since                 is  12  th word\n",
      "I                     is  13  th word\n",
      "ran                   is  14  th word\n",
      "today                 is  15  th word\n"
     ]
    }
   ],
   "source": [
    "count = 1\n",
    "for token in doc:\n",
    "        print(f'{token.text:{20}}  is  {count}  th word')\n",
    "        count += 1"
   ]
  },
  {
   "cell_type": "code",
   "execution_count": 44,
   "id": "04561c8f-1b17-446a-a807-dca140d827bc",
   "metadata": {},
   "outputs": [
    {
     "data": {
      "text/plain": [
       "326"
      ]
     },
     "execution_count": 44,
     "metadata": {},
     "output_type": "execute_result"
    }
   ],
   "source": [
    "len(nlp.Defaults.stop_words)"
   ]
  },
  {
   "cell_type": "code",
   "execution_count": 54,
   "id": "03682902-6af1-44e8-b479-48ab481c5e76",
   "metadata": {},
   "outputs": [],
   "source": [
    "matcher = Matcher(nlp.vocab)"
   ]
  },
  {
   "cell_type": "code",
   "execution_count": 98,
   "id": "4707c819-c770-453d-907f-b84dbb511dae",
   "metadata": {},
   "outputs": [],
   "source": [
    "pattern1 = [{'LOWER' : 'solarpower'}]\n",
    "pattern2 = [{'LOWER' : 'solar'}, {'IS_PUNCT':True},{'LOWER':'power'}]\n",
    "pattern3 = [{'LOWER' : 'solar'},{'LOWER':'power'}]"
   ]
  },
  {
   "cell_type": "code",
   "execution_count": null,
   "id": "615b2e63-8b69-47a3-85fb-b51e28f07904",
   "metadata": {},
   "outputs": [],
   "source": []
  },
  {
   "cell_type": "code",
   "execution_count": 105,
   "id": "27364ef4-a9d1-4c3a-af87-10e70670a439",
   "metadata": {},
   "outputs": [],
   "source": [
    "matcher.add('SolarPower', [pattern1,pattern2,pattern3])\n"
   ]
  },
  {
   "cell_type": "code",
   "execution_count": 106,
   "id": "03fd99cd-2e5e-4ce4-9f70-cc2dcdfa1140",
   "metadata": {},
   "outputs": [],
   "source": [
    "doc21 = nlp(u'The Solar Power industry  continues to grow a solarpower increases. Solar-Power is amazing ')"
   ]
  },
  {
   "cell_type": "code",
   "execution_count": 108,
   "id": "cb4c2c97-744e-4f90-9e99-a6236a21d0bf",
   "metadata": {},
   "outputs": [],
   "source": [
    "found_matches = matcher(doc21)"
   ]
  },
  {
   "cell_type": "code",
   "execution_count": 109,
   "id": "7673b6ba-0690-4f6a-bc69-4147be17705c",
   "metadata": {},
   "outputs": [
    {
     "name": "stdout",
     "output_type": "stream",
     "text": [
      "[(8656102463236116519, 1, 3), (8656102463236116519, 9, 10), (8656102463236116519, 12, 15)]\n"
     ]
    }
   ],
   "source": [
    "print(found_matches)"
   ]
  },
  {
   "cell_type": "code",
   "execution_count": 118,
   "id": "30e6d202-0edc-440a-aae2-35f0a3c4006d",
   "metadata": {},
   "outputs": [
    {
     "name": "stdout",
     "output_type": "stream",
     "text": [
      "   8656102463236116519    1    3  Solar Power    \n",
      "   8656102463236116519    9   10  solarpower     \n",
      "   8656102463236116519   12   15  Solar-Power    \n"
     ]
    }
   ],
   "source": [
    "for match_id,start,end in found_matches:\n",
    "    print(f'{match_id:{22}} {start:{4}} {end:{4}}  {doc21[start:end].text:<{15}}')"
   ]
  },
  {
   "cell_type": "code",
   "execution_count": 1,
   "id": "b7ed006c-347b-41db-8a78-703dafc068b0",
   "metadata": {},
   "outputs": [
    {
     "ename": "NameError",
     "evalue": "name 'matcher' is not defined",
     "output_type": "error",
     "traceback": [
      "\u001b[1;31m---------------------------------------------------------------------------\u001b[0m",
      "\u001b[1;31mNameError\u001b[0m                                 Traceback (most recent call last)",
      "Cell \u001b[1;32mIn[1], line 5\u001b[0m\n\u001b[0;32m      2\u001b[0m pattern2 \u001b[38;5;241m=\u001b[39m [{\u001b[38;5;124m'\u001b[39m\u001b[38;5;124mLOWER\u001b[39m\u001b[38;5;124m'\u001b[39m:\u001b[38;5;124m'\u001b[39m\u001b[38;5;124msolar\u001b[39m\u001b[38;5;124m'\u001b[39m},{\u001b[38;5;124m'\u001b[39m\u001b[38;5;124mIS_PUNCT\u001b[39m\u001b[38;5;124m'\u001b[39m:\u001b[38;5;28;01mTrue\u001b[39;00m},{\u001b[38;5;124m'\u001b[39m\u001b[38;5;124mLOWER\u001b[39m\u001b[38;5;124m'\u001b[39m:\u001b[38;5;124m'\u001b[39m\u001b[38;5;124mpower\u001b[39m\u001b[38;5;124m'\u001b[39m}]\n\u001b[0;32m      3\u001b[0m pattern3 \u001b[38;5;241m=\u001b[39m [{\u001b[38;5;124m'\u001b[39m\u001b[38;5;124mLOWER\u001b[39m\u001b[38;5;124m'\u001b[39m:\u001b[38;5;124m'\u001b[39m\u001b[38;5;124msolar\u001b[39m\u001b[38;5;124m'\u001b[39m},{\u001b[38;5;124m'\u001b[39m\u001b[38;5;124mLOWER\u001b[39m\u001b[38;5;124m'\u001b[39m:\u001b[38;5;124m'\u001b[39m\u001b[38;5;124mpower\u001b[39m\u001b[38;5;124m'\u001b[39m}]\n\u001b[1;32m----> 5\u001b[0m \u001b[43mmatcher\u001b[49m\u001b[38;5;241m.\u001b[39madd(\u001b[38;5;124m'\u001b[39m\u001b[38;5;124mSolarPower\u001b[39m\u001b[38;5;124m'\u001b[39m, [pattern1,pattern2,pattern3])\n\u001b[0;32m      6\u001b[0m doc \u001b[38;5;241m=\u001b[39m nlp(\u001b[38;5;124mu\u001b[39m\u001b[38;5;124m\"\u001b[39m\u001b[38;5;124mThe Solar Power industry continues to grow a solarpower increases. Solar-power is good\u001b[39m\u001b[38;5;124m\"\u001b[39m)\n\u001b[0;32m      7\u001b[0m found_matches \u001b[38;5;241m=\u001b[39m matcher(doc)\n",
      "\u001b[1;31mNameError\u001b[0m: name 'matcher' is not defined"
     ]
    }
   ],
   "source": [
    "pattern1 = [{'LOWER':'solarpower'}]\n",
    "pattern2 = [{'LOWER':'solar'},{'IS_PUNCT':True},{'LOWER':'power'}]\n",
    "pattern3 = [{'LOWER':'solar'},{'LOWER':'power'}]\n",
    "\n",
    "matcher.add('SolarPower', [pattern1,pattern2,pattern3])\n",
    "doc = nlp(u\"The Solar Power industry continues to grow a solarpower increases. Solar-power is good\")\n",
    "found_matches = matcher(doc)\n",
    "\n",
    "\n",
    "for _,start,end in found_matches:\n",
    "    span = doc[start:end]\n",
    "    print(span)"
   ]
  },
  {
   "cell_type": "code",
   "execution_count": null,
   "id": "e292d604-c2ac-449f-8d54-8c1865e7d33d",
   "metadata": {},
   "outputs": [],
   "source": []
  }
 ],
 "metadata": {
  "kernelspec": {
   "display_name": "Python 3 (ipykernel)",
   "language": "python",
   "name": "python3"
  },
  "language_info": {
   "codemirror_mode": {
    "name": "ipython",
    "version": 3
   },
   "file_extension": ".py",
   "mimetype": "text/x-python",
   "name": "python",
   "nbconvert_exporter": "python",
   "pygments_lexer": "ipython3",
   "version": "3.11.3"
  }
 },
 "nbformat": 4,
 "nbformat_minor": 5
}
